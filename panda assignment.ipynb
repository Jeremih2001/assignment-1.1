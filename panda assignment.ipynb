{
 "cells": [
  {
   "cell_type": "code",
   "execution_count": 1,
   "metadata": {},
   "outputs": [],
   "source": [
    "import pandas as pd"
   ]
  },
  {
   "cell_type": "code",
   "execution_count": 8,
   "metadata": {},
   "outputs": [
    {
     "name": "stdout",
     "output_type": "stream",
     "text": [
      "A     2\n",
      "B     4\n",
      "C     6\n",
      "D     8\n",
      "E    10\n",
      "F    12\n",
      "G    14\n",
      "H    16\n",
      "dtype: int64\n"
     ]
    }
   ],
   "source": [
    "even= [2,4,6,8,10,12,14,16]\n",
    "jeremihvar = pd.Series(even, index = [\"A\", \"B\", \"C\", \"D\", \"E\", \"F\", \"G\",\"H\"])\n",
    "print(jeremihvar)"
   ]
  },
  {
   "cell_type": "code",
   "execution_count": 14,
   "metadata": {},
   "outputs": [
    {
     "name": "stdout",
     "output_type": "stream",
     "text": [
      "                Classes  Time\n",
      "MONDAY     Data Science  9-11\n",
      "WEDNESDAY       App Dev  11-2\n",
      "FRIDAY          Web Dev   2-5\n"
     ]
    }
   ],
   "source": [
    "SMARTHUB = {\n",
    "    \"Classes\": ['Data Science', 'Mobile App Development', 'Web Development'],\n",
    "    \"Time\": ['9am-11am', '11am-2pm', '2pm-5pm']\n",
    "}\n",
    "\n",
    "df = pd.DataFrame(smartHub, index = \n",
    "                 [\"MONDAY\", \"WEDNESDAY\", \"FRIDAY\"])\n",
    "print(df)"
   ]
  }
 ],
 "metadata": {
  "kernelspec": {
   "display_name": "Python 3",
   "language": "python",
   "name": "python3"
  },
  "language_info": {
   "codemirror_mode": {
    "name": "ipython",
    "version": 3
   },
   "file_extension": ".py",
   "mimetype": "text/x-python",
   "name": "python",
   "nbconvert_exporter": "python",
   "pygments_lexer": "ipython3",
   "version": "3.7.3"
  }
 },
 "nbformat": 4,
 "nbformat_minor": 2
}
